{
  "nbformat": 4,
  "nbformat_minor": 0,
  "metadata": {
    "colab": {
      "name": "On-Chain Analysis: Blocks + Transactions Per Day",
      "provenance": []
    },
    "kernelspec": {
      "name": "python3",
      "display_name": "Python 3"
    },
    "language_info": {
      "name": "python"
    }
  },
  "cells": [
    {
      "cell_type": "markdown",
      "metadata": {
        "id": "GNimawKpa0ex"
      },
      "source": [
        "## **On-Chain Analysis: Blocks + Transactions Per Day**\n",
        "\n",
        "Let's learn Pandas through analyzing the Bitcoin Blockchain. There are many ways to do analysis but we are going to take the long, detailed route and hopefully learn along the way.\n",
        "\n",
        "In this tutorial we are going to query the Bitcoin Blockchain and analyze the number of blocks and transactions that happened on a given day.\n",
        "\n",
        "First let's import our libraries. `Pandas` to analyze data, `requests` to make a call to the API, `time` to slow down our API calls."
      ]
    },
    {
      "cell_type": "code",
      "metadata": {
        "id": "ZPwDGww2a1pf"
      },
      "source": [
        "import requests\n",
        "import pandas as pd\n",
        "import time\n",
        "import matplotlib.pyplot as plt"
      ],
      "execution_count": null,
      "outputs": []
    },
    {
      "cell_type": "markdown",
      "metadata": {
        "id": "smvyF-8w80rN"
      },
      "source": [
        "Great, now the first thing we want to do is make a list of dates that we can iterate through. The API we are using comes from [BTC.com](https://btc.com/btc/adapter?type=api-doc).\n",
        "\n",
        "This specific API takes a list of dates in YYYYMMDD format and outputs the blocks that happened on that day. Let's first create our dates.\n",
        "\n",
        "We will use Pandas' `date_range` function to do this. We'll need to convert the format into a string as well."
      ]
    },
    {
      "cell_type": "code",
      "metadata": {
        "colab": {
          "base_uri": "https://localhost:8080/"
        },
        "id": "dLYgFE1q9HYK",
        "outputId": "4f0077b6-6e2d-4603-a6fa-621c5294a5f0"
      },
      "source": [
        "# First create our date range\n",
        "date_range = pd.date_range(start='1/1/2018', end='2/01/2018')\n",
        "date_range"
      ],
      "execution_count": null,
      "outputs": [
        {
          "output_type": "execute_result",
          "data": {
            "text/plain": [
              "DatetimeIndex(['2018-01-01', '2018-01-02', '2018-01-03', '2018-01-04',\n",
              "               '2018-01-05', '2018-01-06', '2018-01-07', '2018-01-08',\n",
              "               '2018-01-09', '2018-01-10', '2018-01-11', '2018-01-12',\n",
              "               '2018-01-13', '2018-01-14', '2018-01-15', '2018-01-16',\n",
              "               '2018-01-17', '2018-01-18', '2018-01-19', '2018-01-20',\n",
              "               '2018-01-21', '2018-01-22', '2018-01-23', '2018-01-24',\n",
              "               '2018-01-25', '2018-01-26', '2018-01-27', '2018-01-28',\n",
              "               '2018-01-29', '2018-01-30', '2018-01-31', '2018-02-01'],\n",
              "              dtype='datetime64[ns]', freq='D')"
            ]
          },
          "metadata": {},
          "execution_count": 3
        }
      ]
    },
    {
      "cell_type": "code",
      "metadata": {
        "colab": {
          "base_uri": "https://localhost:8080/"
        },
        "id": "1g3dIJSy9xog",
        "outputId": "eef9d803-1d5b-4682-ea8e-e747840e99f4"
      },
      "source": [
        "# Then convert those dates into the proper string format using list comprehension\n",
        "date_range_ft = [d.strftime('%Y%m%d') for d in date_range]\n",
        "date_range_ft[:10]"
      ],
      "execution_count": null,
      "outputs": [
        {
          "output_type": "execute_result",
          "data": {
            "text/plain": [
              "['20180101',\n",
              " '20180102',\n",
              " '20180103',\n",
              " '20180104',\n",
              " '20180105',\n",
              " '20180106',\n",
              " '20180107',\n",
              " '20180108',\n",
              " '20180109',\n",
              " '20180110']"
            ]
          },
          "metadata": {},
          "execution_count": 4
        }
      ]
    },
    {
      "cell_type": "markdown",
      "metadata": {
        "id": "bE4XyO1g9_tc"
      },
      "source": [
        "Great! Now that we have our list of dates, we want to create a loop that will run through our list and make and API call. We'll need to store the data in a list."
      ]
    },
    {
      "cell_type": "code",
      "metadata": {
        "colab": {
          "base_uri": "https://localhost:8080/"
        },
        "id": "aWUTDO1K6ytO",
        "outputId": "de8b6b54-2b31-449f-d774-a2487eafffb8"
      },
      "source": [
        "# Start off by making a blank list\n",
        "blocks_list = []\n",
        "\n",
        "# Then iterate through your dates\n",
        "for i, date in enumerate(date_range_ft):\n",
        "  url = \"https://chain.api.btc.com/v3/block/date/{}\".format(date)\n",
        "  r = requests.get(url)\n",
        "\n",
        "  # Extract your response as json\n",
        "  response_block_output = r.json()\n",
        "\n",
        "  # Pull the list of blocks from the data field and append them to your list\n",
        "  blocks_list.extend(response_block_output['data'])\n",
        "\n",
        "  # Sleep for a bit to not go too quick\n",
        "  time.sleep(10)\n",
        "\n",
        "  # Print how far along you've gone\n",
        "  if i % 5 == 0:\n",
        "    print (\"Finished Day #{}\".format(i))"
      ],
      "execution_count": null,
      "outputs": [
        {
          "output_type": "stream",
          "name": "stdout",
          "text": [
            "Finished Day #0\n",
            "Finished Day #5\n",
            "Finished Day #10\n",
            "Finished Day #15\n",
            "Finished Day #20\n",
            "Finished Day #25\n",
            "Finished Day #30\n"
          ]
        }
      ]
    },
    {
      "cell_type": "code",
      "metadata": {
        "colab": {
          "base_uri": "https://localhost:8080/"
        },
        "id": "yuNUepTfNIGW",
        "outputId": "c2904088-bd9d-46a5-f4b1-ce747e995e75"
      },
      "source": [
        "r.status_code"
      ],
      "execution_count": null,
      "outputs": [
        {
          "output_type": "execute_result",
          "data": {
            "text/plain": [
              "200"
            ]
          },
          "metadata": {},
          "execution_count": 6
        }
      ]
    },
    {
      "cell_type": "markdown",
      "metadata": {
        "id": "TKdbVTFCDFTX"
      },
      "source": [
        "Let's look at one of the responses as a sample. Look at all of the cool data there is."
      ]
    },
    {
      "cell_type": "code",
      "metadata": {
        "colab": {
          "base_uri": "https://localhost:8080/"
        },
        "id": "YoNkSIneDFC-",
        "outputId": "8d02b980-477a-408c-87d5-70f76d514f98"
      },
      "source": [
        "blocks_list[0]"
      ],
      "execution_count": null,
      "outputs": [
        {
          "output_type": "execute_result",
          "data": {
            "text/plain": [
              "{'bits': 402690497,\n",
              " 'confirmations': 205927,\n",
              " 'curr_max_timestamp': 1514850785,\n",
              " 'difficulty': 1931136454487,\n",
              " 'difficulty_double': 1931136454487.7163,\n",
              " 'extras': {'pool_link': 'https://www.antpool.com/', 'pool_name': 'AntPool'},\n",
              " 'hash': '0000000000000000006d5a64da890b8d67f9ed254705081bb280432a44a13d2b',\n",
              " 'height': 502116,\n",
              " 'is_orphan': False,\n",
              " 'is_sw_block': True,\n",
              " 'mrkl_root': '3b79a9ef9ce04d291fcb1606ec11918d23416a508904452f486a0d93279d48eb',\n",
              " 'next_block_hash': '000000000000000000027b5f452555405e574bc206a4c6ef9bef63cc153c7ea3',\n",
              " 'nonce': 3369788197,\n",
              " 'pool_difficulty': 2573961887277,\n",
              " 'prev_block_hash': '0000000000000000004c46d70c98c13a42721fc52b3fbef5c4f6342bb9fe3000',\n",
              " 'reward_block': 1250000000,\n",
              " 'reward_fees': 515447403,\n",
              " 'sigops': 24454,\n",
              " 'size': 1050311,\n",
              " 'stripped_size': 980937,\n",
              " 'timestamp': 1514850785,\n",
              " 'tx_count': 2598,\n",
              " 'version': 536870912,\n",
              " 'weight': 3993122}"
            ]
          },
          "metadata": {},
          "execution_count": 7
        }
      ]
    },
    {
      "cell_type": "markdown",
      "metadata": {
        "id": "5Vok9cXoA8no"
      },
      "source": [
        "We only want a few fields from our json file, so I'm going to extract those to make our dataframe more clean. I want\n",
        "\n",
        "* **Timestamp**: When the block was mined\n",
        "* **Height**: Unique identifier of the block\n",
        "* **tx_count**: How many transactions were in that block"
      ]
    },
    {
      "cell_type": "code",
      "metadata": {
        "colab": {
          "base_uri": "https://localhost:8080/"
        },
        "id": "YCWofNFIgEZi",
        "outputId": "f160cc0f-31b2-4a30-d690-72c122e117dd"
      },
      "source": [
        "len(blocks_list)"
      ],
      "execution_count": null,
      "outputs": [
        {
          "output_type": "execute_result",
          "data": {
            "text/plain": [
              "5215"
            ]
          },
          "metadata": {},
          "execution_count": 8
        }
      ]
    },
    {
      "cell_type": "code",
      "metadata": {
        "colab": {
          "base_uri": "https://localhost:8080/"
        },
        "id": "LE7vFmjx_rVU",
        "outputId": "82a4420d-9ef6-4fce-a214-57dc2ab271e6"
      },
      "source": [
        "blocks_list_small = [[x['timestamp'], x['height'], x['tx_count']] for x in blocks_list]\n",
        "blocks_list_small[:5]"
      ],
      "execution_count": null,
      "outputs": [
        {
          "output_type": "execute_result",
          "data": {
            "text/plain": [
              "[[1514850785, 502116, 2598],\n",
              " [1514849945, 502115, 2375],\n",
              " [1514848457, 502114, 2719],\n",
              " [1514847391, 502113, 1971],\n",
              " [1514846766, 502112, 1062]]"
            ]
          },
          "metadata": {},
          "execution_count": 9
        }
      ]
    },
    {
      "cell_type": "markdown",
      "metadata": {
        "id": "xjCIZ3ypDPlg"
      },
      "source": [
        "Next let's convert this into a data frame. We are going to use the order of the items in the list to know which columns to tell pandas"
      ]
    },
    {
      "cell_type": "code",
      "metadata": {
        "colab": {
          "base_uri": "https://localhost:8080/",
          "height": 421
        },
        "id": "rodvgacD_8iq",
        "outputId": "737326c9-56db-4f55-9bfb-c773884a6177"
      },
      "source": [
        "df = pd.DataFrame(blocks_list_small, columns=['timestamp', 'height', 'tx_count'])\n",
        "df"
      ],
      "execution_count": null,
      "outputs": [
        {
          "output_type": "execute_result",
          "data": {
            "text/html": [
              "<div>\n",
              "<style scoped>\n",
              "    .dataframe tbody tr th:only-of-type {\n",
              "        vertical-align: middle;\n",
              "    }\n",
              "\n",
              "    .dataframe tbody tr th {\n",
              "        vertical-align: top;\n",
              "    }\n",
              "\n",
              "    .dataframe thead th {\n",
              "        text-align: right;\n",
              "    }\n",
              "</style>\n",
              "<table border=\"1\" class=\"dataframe\">\n",
              "  <thead>\n",
              "    <tr style=\"text-align: right;\">\n",
              "      <th></th>\n",
              "      <th>timestamp</th>\n",
              "      <th>height</th>\n",
              "      <th>tx_count</th>\n",
              "    </tr>\n",
              "  </thead>\n",
              "  <tbody>\n",
              "    <tr>\n",
              "      <th>0</th>\n",
              "      <td>1514850785</td>\n",
              "      <td>502116</td>\n",
              "      <td>2598</td>\n",
              "    </tr>\n",
              "    <tr>\n",
              "      <th>1</th>\n",
              "      <td>1514849945</td>\n",
              "      <td>502115</td>\n",
              "      <td>2375</td>\n",
              "    </tr>\n",
              "    <tr>\n",
              "      <th>2</th>\n",
              "      <td>1514848457</td>\n",
              "      <td>502114</td>\n",
              "      <td>2719</td>\n",
              "    </tr>\n",
              "    <tr>\n",
              "      <th>3</th>\n",
              "      <td>1514847391</td>\n",
              "      <td>502113</td>\n",
              "      <td>1971</td>\n",
              "    </tr>\n",
              "    <tr>\n",
              "      <th>4</th>\n",
              "      <td>1514846766</td>\n",
              "      <td>502112</td>\n",
              "      <td>1062</td>\n",
              "    </tr>\n",
              "    <tr>\n",
              "      <th>...</th>\n",
              "      <td>...</td>\n",
              "      <td>...</td>\n",
              "      <td>...</td>\n",
              "    </tr>\n",
              "    <tr>\n",
              "      <th>5210</th>\n",
              "      <td>1517446403</td>\n",
              "      <td>507020</td>\n",
              "      <td>1744</td>\n",
              "    </tr>\n",
              "    <tr>\n",
              "      <th>5211</th>\n",
              "      <td>1517445750</td>\n",
              "      <td>507019</td>\n",
              "      <td>2530</td>\n",
              "    </tr>\n",
              "    <tr>\n",
              "      <th>5212</th>\n",
              "      <td>1517445549</td>\n",
              "      <td>507018</td>\n",
              "      <td>2147</td>\n",
              "    </tr>\n",
              "    <tr>\n",
              "      <th>5213</th>\n",
              "      <td>1517445364</td>\n",
              "      <td>507017</td>\n",
              "      <td>2803</td>\n",
              "    </tr>\n",
              "    <tr>\n",
              "      <th>5214</th>\n",
              "      <td>1517443751</td>\n",
              "      <td>507016</td>\n",
              "      <td>2441</td>\n",
              "    </tr>\n",
              "  </tbody>\n",
              "</table>\n",
              "<p>5215 rows × 3 columns</p>\n",
              "</div>"
            ],
            "text/plain": [
              "       timestamp  height  tx_count\n",
              "0     1514850785  502116      2598\n",
              "1     1514849945  502115      2375\n",
              "2     1514848457  502114      2719\n",
              "3     1514847391  502113      1971\n",
              "4     1514846766  502112      1062\n",
              "...          ...     ...       ...\n",
              "5210  1517446403  507020      1744\n",
              "5211  1517445750  507019      2530\n",
              "5212  1517445549  507018      2147\n",
              "5213  1517445364  507017      2803\n",
              "5214  1517443751  507016      2441\n",
              "\n",
              "[5215 rows x 3 columns]"
            ]
          },
          "metadata": {},
          "execution_count": 10
        }
      ]
    },
    {
      "cell_type": "markdown",
      "metadata": {
        "id": "k7FXzWrmEAvw"
      },
      "source": [
        "Nice! Now we have data about blocks in our dataframe.\n",
        "\n",
        "First thing is first. Let's clean up those dates. I want to replace the epoc seconds with the date."
      ]
    },
    {
      "cell_type": "code",
      "metadata": {
        "colab": {
          "base_uri": "https://localhost:8080/",
          "height": 421
        },
        "id": "gGRgWNtmDgdu",
        "outputId": "f61b8488-1454-455b-fb42-024da811e33d"
      },
      "source": [
        "df['timestamp'] = pd.to_datetime(df['timestamp'], unit='s').dt.strftime('%D')\n",
        "df"
      ],
      "execution_count": null,
      "outputs": [
        {
          "output_type": "execute_result",
          "data": {
            "text/html": [
              "<div>\n",
              "<style scoped>\n",
              "    .dataframe tbody tr th:only-of-type {\n",
              "        vertical-align: middle;\n",
              "    }\n",
              "\n",
              "    .dataframe tbody tr th {\n",
              "        vertical-align: top;\n",
              "    }\n",
              "\n",
              "    .dataframe thead th {\n",
              "        text-align: right;\n",
              "    }\n",
              "</style>\n",
              "<table border=\"1\" class=\"dataframe\">\n",
              "  <thead>\n",
              "    <tr style=\"text-align: right;\">\n",
              "      <th></th>\n",
              "      <th>timestamp</th>\n",
              "      <th>height</th>\n",
              "      <th>tx_count</th>\n",
              "    </tr>\n",
              "  </thead>\n",
              "  <tbody>\n",
              "    <tr>\n",
              "      <th>0</th>\n",
              "      <td>01/01/18</td>\n",
              "      <td>502116</td>\n",
              "      <td>2598</td>\n",
              "    </tr>\n",
              "    <tr>\n",
              "      <th>1</th>\n",
              "      <td>01/01/18</td>\n",
              "      <td>502115</td>\n",
              "      <td>2375</td>\n",
              "    </tr>\n",
              "    <tr>\n",
              "      <th>2</th>\n",
              "      <td>01/01/18</td>\n",
              "      <td>502114</td>\n",
              "      <td>2719</td>\n",
              "    </tr>\n",
              "    <tr>\n",
              "      <th>3</th>\n",
              "      <td>01/01/18</td>\n",
              "      <td>502113</td>\n",
              "      <td>1971</td>\n",
              "    </tr>\n",
              "    <tr>\n",
              "      <th>4</th>\n",
              "      <td>01/01/18</td>\n",
              "      <td>502112</td>\n",
              "      <td>1062</td>\n",
              "    </tr>\n",
              "    <tr>\n",
              "      <th>...</th>\n",
              "      <td>...</td>\n",
              "      <td>...</td>\n",
              "      <td>...</td>\n",
              "    </tr>\n",
              "    <tr>\n",
              "      <th>5210</th>\n",
              "      <td>02/01/18</td>\n",
              "      <td>507020</td>\n",
              "      <td>1744</td>\n",
              "    </tr>\n",
              "    <tr>\n",
              "      <th>5211</th>\n",
              "      <td>02/01/18</td>\n",
              "      <td>507019</td>\n",
              "      <td>2530</td>\n",
              "    </tr>\n",
              "    <tr>\n",
              "      <th>5212</th>\n",
              "      <td>02/01/18</td>\n",
              "      <td>507018</td>\n",
              "      <td>2147</td>\n",
              "    </tr>\n",
              "    <tr>\n",
              "      <th>5213</th>\n",
              "      <td>02/01/18</td>\n",
              "      <td>507017</td>\n",
              "      <td>2803</td>\n",
              "    </tr>\n",
              "    <tr>\n",
              "      <th>5214</th>\n",
              "      <td>02/01/18</td>\n",
              "      <td>507016</td>\n",
              "      <td>2441</td>\n",
              "    </tr>\n",
              "  </tbody>\n",
              "</table>\n",
              "<p>5215 rows × 3 columns</p>\n",
              "</div>"
            ],
            "text/plain": [
              "     timestamp  height  tx_count\n",
              "0     01/01/18  502116      2598\n",
              "1     01/01/18  502115      2375\n",
              "2     01/01/18  502114      2719\n",
              "3     01/01/18  502113      1971\n",
              "4     01/01/18  502112      1062\n",
              "...        ...     ...       ...\n",
              "5210  02/01/18  507020      1744\n",
              "5211  02/01/18  507019      2530\n",
              "5212  02/01/18  507018      2147\n",
              "5213  02/01/18  507017      2803\n",
              "5214  02/01/18  507016      2441\n",
              "\n",
              "[5215 rows x 3 columns]"
            ]
          },
          "metadata": {},
          "execution_count": 11
        }
      ]
    },
    {
      "cell_type": "markdown",
      "metadata": {
        "id": "OJ7fwzcZEwg5"
      },
      "source": [
        "Now finally for the good stuff! Lets find out how many blocks and transactions happened per day.\n",
        "\n",
        "To do this we will use [pandas group by](https://www.dataindependent.com/pandas/pandas-group-by/) (the long way) to pull out the **distinct count** of heights and the summation of tx_count."
      ]
    },
    {
      "cell_type": "code",
      "metadata": {
        "colab": {
          "base_uri": "https://localhost:8080/",
          "height": 236
        },
        "id": "vb00jJEYEMj5",
        "outputId": "6d1ff10d-04b3-4042-e50b-2ef7f0071797"
      },
      "source": [
        "df_grouped = df.groupby('timestamp').agg(\n",
        "  num_blocks=pd.NamedAgg(column='height', aggfunc=pd.Series.nunique),\n",
        "  num_transactions=pd.NamedAgg(column='tx_count', aggfunc=pd.Series.sum)\n",
        ")\n",
        "df_grouped.head(5)"
      ],
      "execution_count": null,
      "outputs": [
        {
          "output_type": "execute_result",
          "data": {
            "text/html": [
              "<div>\n",
              "<style scoped>\n",
              "    .dataframe tbody tr th:only-of-type {\n",
              "        vertical-align: middle;\n",
              "    }\n",
              "\n",
              "    .dataframe tbody tr th {\n",
              "        vertical-align: top;\n",
              "    }\n",
              "\n",
              "    .dataframe thead th {\n",
              "        text-align: right;\n",
              "    }\n",
              "</style>\n",
              "<table border=\"1\" class=\"dataframe\">\n",
              "  <thead>\n",
              "    <tr style=\"text-align: right;\">\n",
              "      <th></th>\n",
              "      <th>num_blocks</th>\n",
              "      <th>num_transactions</th>\n",
              "    </tr>\n",
              "    <tr>\n",
              "      <th>timestamp</th>\n",
              "      <th></th>\n",
              "      <th></th>\n",
              "    </tr>\n",
              "  </thead>\n",
              "  <tbody>\n",
              "    <tr>\n",
              "      <th>01/01/18</th>\n",
              "      <td>156</td>\n",
              "      <td>241757</td>\n",
              "    </tr>\n",
              "    <tr>\n",
              "      <th>01/02/18</th>\n",
              "      <td>171</td>\n",
              "      <td>340980</td>\n",
              "    </tr>\n",
              "    <tr>\n",
              "      <th>01/03/18</th>\n",
              "      <td>157</td>\n",
              "      <td>395963</td>\n",
              "    </tr>\n",
              "    <tr>\n",
              "      <th>01/04/18</th>\n",
              "      <td>168</td>\n",
              "      <td>425008</td>\n",
              "    </tr>\n",
              "    <tr>\n",
              "      <th>01/05/18</th>\n",
              "      <td>143</td>\n",
              "      <td>342707</td>\n",
              "    </tr>\n",
              "  </tbody>\n",
              "</table>\n",
              "</div>"
            ],
            "text/plain": [
              "           num_blocks  num_transactions\n",
              "timestamp                              \n",
              "01/01/18          156            241757\n",
              "01/02/18          171            340980\n",
              "01/03/18          157            395963\n",
              "01/04/18          168            425008\n",
              "01/05/18          143            342707"
            ]
          },
          "metadata": {},
          "execution_count": 12
        }
      ]
    },
    {
      "cell_type": "markdown",
      "metadata": {
        "id": "dAcU8LjrGA3g"
      },
      "source": [
        "Woah cool! Now we can see how many blocks happened on a specific day and how many transactions those blocks had. Finally. Let's plot this out to view our data."
      ]
    },
    {
      "cell_type": "code",
      "metadata": {
        "colab": {
          "base_uri": "https://localhost:8080/",
          "height": 279
        },
        "id": "kJVtXNnIF9IM",
        "outputId": "a5d81d1a-2c22-4727-a6f4-45d8385ce27f"
      },
      "source": [
        "fig, ax1 = plt.subplots()\n",
        "\n",
        "ax2 = ax1.twinx()\n",
        "ax1.plot(pd.to_datetime(df_grouped.index), df_grouped['num_blocks'], 'g-')\n",
        "ax2.plot(pd.to_datetime(df_grouped.index), df_grouped['num_transactions'], 'b-')\n",
        "\n",
        "ax1.set_xlabel('Date')\n",
        "\n",
        "ax1.set_ylabel('Number Of Blocks', color='g')\n",
        "ax2.set_ylabel('Number Of Transactions', color='b')\n",
        "\n",
        "plt.plot()\n",
        "\n",
        "# ax1.set_xticklabels(labels=[d.strftime('%Y-%m-%d') for d in date_range], rotation=45)\n",
        "\n",
        "plt.show()"
      ],
      "execution_count": null,
      "outputs": [
        {
          "output_type": "display_data",
          "data": {
            "image/png": "[encoded data removed]",
            "text/plain": [
              "<Figure size 432x288 with 2 Axes>"
            ]
          },
          "metadata": {
            "needs_background": "light"
          }
        }
      ]
    },
    {
      "cell_type": "code",
      "metadata": {
        "id": "wiuW9HDshCSn"
      },
      "source": [
        ""
      ],
      "execution_count": null,
      "outputs": []
    }
  ]
}